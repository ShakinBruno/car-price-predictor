{
 "cells": [
  {
   "cell_type": "code",
   "execution_count": 1,
   "metadata": {
    "collapsed": true,
    "ExecuteTime": {
     "end_time": "2023-07-09T16:59:26.069148200Z",
     "start_time": "2023-07-09T16:59:24.111874500Z"
    }
   },
   "outputs": [],
   "source": [
    "import numpy as np\n",
    "import pandas as pd\n",
    "\n",
    "from IPython.display import display\n",
    "from sklearn.preprocessing import LabelEncoder"
   ]
  },
  {
   "cell_type": "code",
   "execution_count": 2,
   "metadata": {
    "ExecuteTime": {
     "end_time": "2023-07-09T16:59:59.781315600Z",
     "start_time": "2023-07-09T16:59:26.074098500Z"
    }
   },
   "outputs": [
    {
     "data": {
      "text/plain": "            id                                                url  \\\n0   7222695916  https://prescott.craigslist.org/cto/d/prescott...   \n1   7218891961  https://fayar.craigslist.org/ctd/d/bentonville...   \n2   7221797935  https://keys.craigslist.org/cto/d/summerland-k...   \n3   7222270760  https://worcester.craigslist.org/cto/d/west-br...   \n4   7210384030  https://greensboro.craigslist.org/cto/d/trinit...   \n5   7222379453  https://hudsonvalley.craigslist.org/cto/d/west...   \n6   7221952215  https://hudsonvalley.craigslist.org/cto/d/west...   \n7   7220195662  https://hudsonvalley.craigslist.org/cto/d/poug...   \n8   7209064557  https://medford.craigslist.org/cto/d/grants-pa...   \n9   7219485069  https://erie.craigslist.org/cto/d/erie-2012-su...   \n10  7218893038  https://elpaso.craigslist.org/ctd/d/el-paso-20...   \n11  7218325704  https://elpaso.craigslist.org/ctd/d/el-paso-20...   \n12  7217788283  https://elpaso.craigslist.org/ctd/d/el-paso-20...   \n13  7217147606  https://elpaso.craigslist.org/ctd/d/el-paso-20...   \n14  7209027818  https://elpaso.craigslist.org/ctd/d/el-paso-20...   \n\n                    region                           region_url  price  year  \\\n0                 prescott      https://prescott.craigslist.org   6000   NaN   \n1             fayetteville         https://fayar.craigslist.org  11900   NaN   \n2             florida keys          https://keys.craigslist.org  21000   NaN   \n3   worcester / central MA     https://worcester.craigslist.org   1500   NaN   \n4               greensboro    https://greensboro.craigslist.org   4900   NaN   \n5            hudson valley  https://hudsonvalley.craigslist.org   1600   NaN   \n6            hudson valley  https://hudsonvalley.craigslist.org   1000   NaN   \n7            hudson valley  https://hudsonvalley.craigslist.org  15995   NaN   \n8          medford-ashland       https://medford.craigslist.org   5000   NaN   \n9                     erie          https://erie.craigslist.org   3000   NaN   \n10                 el paso        https://elpaso.craigslist.org      0   NaN   \n11                 el paso        https://elpaso.craigslist.org      0   NaN   \n12                 el paso        https://elpaso.craigslist.org      0   NaN   \n13                 el paso        https://elpaso.craigslist.org      0   NaN   \n14                 el paso        https://elpaso.craigslist.org      0   NaN   \n\n   manufacturer model condition cylinders  ... size  type paint_color  \\\n0           NaN   NaN       NaN       NaN  ...  NaN   NaN         NaN   \n1           NaN   NaN       NaN       NaN  ...  NaN   NaN         NaN   \n2           NaN   NaN       NaN       NaN  ...  NaN   NaN         NaN   \n3           NaN   NaN       NaN       NaN  ...  NaN   NaN         NaN   \n4           NaN   NaN       NaN       NaN  ...  NaN   NaN         NaN   \n5           NaN   NaN       NaN       NaN  ...  NaN   NaN         NaN   \n6           NaN   NaN       NaN       NaN  ...  NaN   NaN         NaN   \n7           NaN   NaN       NaN       NaN  ...  NaN   NaN         NaN   \n8           NaN   NaN       NaN       NaN  ...  NaN   NaN         NaN   \n9           NaN   NaN       NaN       NaN  ...  NaN   NaN         NaN   \n10          NaN   NaN       NaN       NaN  ...  NaN   NaN         NaN   \n11          NaN   NaN       NaN       NaN  ...  NaN   NaN         NaN   \n12          NaN   NaN       NaN       NaN  ...  NaN   NaN         NaN   \n13          NaN   NaN       NaN       NaN  ...  NaN   NaN         NaN   \n14          NaN   NaN       NaN       NaN  ...  NaN   NaN         NaN   \n\n   image_url description county state lat long posting_date  \n0        NaN         NaN    NaN    az NaN  NaN          NaN  \n1        NaN         NaN    NaN    ar NaN  NaN          NaN  \n2        NaN         NaN    NaN    fl NaN  NaN          NaN  \n3        NaN         NaN    NaN    ma NaN  NaN          NaN  \n4        NaN         NaN    NaN    nc NaN  NaN          NaN  \n5        NaN         NaN    NaN    ny NaN  NaN          NaN  \n6        NaN         NaN    NaN    ny NaN  NaN          NaN  \n7        NaN         NaN    NaN    ny NaN  NaN          NaN  \n8        NaN         NaN    NaN    or NaN  NaN          NaN  \n9        NaN         NaN    NaN    pa NaN  NaN          NaN  \n10       NaN         NaN    NaN    tx NaN  NaN          NaN  \n11       NaN         NaN    NaN    tx NaN  NaN          NaN  \n12       NaN         NaN    NaN    tx NaN  NaN          NaN  \n13       NaN         NaN    NaN    tx NaN  NaN          NaN  \n14       NaN         NaN    NaN    tx NaN  NaN          NaN  \n\n[15 rows x 26 columns]",
      "text/html": "<div>\n<style scoped>\n    .dataframe tbody tr th:only-of-type {\n        vertical-align: middle;\n    }\n\n    .dataframe tbody tr th {\n        vertical-align: top;\n    }\n\n    .dataframe thead th {\n        text-align: right;\n    }\n</style>\n<table border=\"1\" class=\"dataframe\">\n  <thead>\n    <tr style=\"text-align: right;\">\n      <th></th>\n      <th>id</th>\n      <th>url</th>\n      <th>region</th>\n      <th>region_url</th>\n      <th>price</th>\n      <th>year</th>\n      <th>manufacturer</th>\n      <th>model</th>\n      <th>condition</th>\n      <th>cylinders</th>\n      <th>...</th>\n      <th>size</th>\n      <th>type</th>\n      <th>paint_color</th>\n      <th>image_url</th>\n      <th>description</th>\n      <th>county</th>\n      <th>state</th>\n      <th>lat</th>\n      <th>long</th>\n      <th>posting_date</th>\n    </tr>\n  </thead>\n  <tbody>\n    <tr>\n      <th>0</th>\n      <td>7222695916</td>\n      <td>https://prescott.craigslist.org/cto/d/prescott...</td>\n      <td>prescott</td>\n      <td>https://prescott.craigslist.org</td>\n      <td>6000</td>\n      <td>NaN</td>\n      <td>NaN</td>\n      <td>NaN</td>\n      <td>NaN</td>\n      <td>NaN</td>\n      <td>...</td>\n      <td>NaN</td>\n      <td>NaN</td>\n      <td>NaN</td>\n      <td>NaN</td>\n      <td>NaN</td>\n      <td>NaN</td>\n      <td>az</td>\n      <td>NaN</td>\n      <td>NaN</td>\n      <td>NaN</td>\n    </tr>\n    <tr>\n      <th>1</th>\n      <td>7218891961</td>\n      <td>https://fayar.craigslist.org/ctd/d/bentonville...</td>\n      <td>fayetteville</td>\n      <td>https://fayar.craigslist.org</td>\n      <td>11900</td>\n      <td>NaN</td>\n      <td>NaN</td>\n      <td>NaN</td>\n      <td>NaN</td>\n      <td>NaN</td>\n      <td>...</td>\n      <td>NaN</td>\n      <td>NaN</td>\n      <td>NaN</td>\n      <td>NaN</td>\n      <td>NaN</td>\n      <td>NaN</td>\n      <td>ar</td>\n      <td>NaN</td>\n      <td>NaN</td>\n      <td>NaN</td>\n    </tr>\n    <tr>\n      <th>2</th>\n      <td>7221797935</td>\n      <td>https://keys.craigslist.org/cto/d/summerland-k...</td>\n      <td>florida keys</td>\n      <td>https://keys.craigslist.org</td>\n      <td>21000</td>\n      <td>NaN</td>\n      <td>NaN</td>\n      <td>NaN</td>\n      <td>NaN</td>\n      <td>NaN</td>\n      <td>...</td>\n      <td>NaN</td>\n      <td>NaN</td>\n      <td>NaN</td>\n      <td>NaN</td>\n      <td>NaN</td>\n      <td>NaN</td>\n      <td>fl</td>\n      <td>NaN</td>\n      <td>NaN</td>\n      <td>NaN</td>\n    </tr>\n    <tr>\n      <th>3</th>\n      <td>7222270760</td>\n      <td>https://worcester.craigslist.org/cto/d/west-br...</td>\n      <td>worcester / central MA</td>\n      <td>https://worcester.craigslist.org</td>\n      <td>1500</td>\n      <td>NaN</td>\n      <td>NaN</td>\n      <td>NaN</td>\n      <td>NaN</td>\n      <td>NaN</td>\n      <td>...</td>\n      <td>NaN</td>\n      <td>NaN</td>\n      <td>NaN</td>\n      <td>NaN</td>\n      <td>NaN</td>\n      <td>NaN</td>\n      <td>ma</td>\n      <td>NaN</td>\n      <td>NaN</td>\n      <td>NaN</td>\n    </tr>\n    <tr>\n      <th>4</th>\n      <td>7210384030</td>\n      <td>https://greensboro.craigslist.org/cto/d/trinit...</td>\n      <td>greensboro</td>\n      <td>https://greensboro.craigslist.org</td>\n      <td>4900</td>\n      <td>NaN</td>\n      <td>NaN</td>\n      <td>NaN</td>\n      <td>NaN</td>\n      <td>NaN</td>\n      <td>...</td>\n      <td>NaN</td>\n      <td>NaN</td>\n      <td>NaN</td>\n      <td>NaN</td>\n      <td>NaN</td>\n      <td>NaN</td>\n      <td>nc</td>\n      <td>NaN</td>\n      <td>NaN</td>\n      <td>NaN</td>\n    </tr>\n    <tr>\n      <th>5</th>\n      <td>7222379453</td>\n      <td>https://hudsonvalley.craigslist.org/cto/d/west...</td>\n      <td>hudson valley</td>\n      <td>https://hudsonvalley.craigslist.org</td>\n      <td>1600</td>\n      <td>NaN</td>\n      <td>NaN</td>\n      <td>NaN</td>\n      <td>NaN</td>\n      <td>NaN</td>\n      <td>...</td>\n      <td>NaN</td>\n      <td>NaN</td>\n      <td>NaN</td>\n      <td>NaN</td>\n      <td>NaN</td>\n      <td>NaN</td>\n      <td>ny</td>\n      <td>NaN</td>\n      <td>NaN</td>\n      <td>NaN</td>\n    </tr>\n    <tr>\n      <th>6</th>\n      <td>7221952215</td>\n      <td>https://hudsonvalley.craigslist.org/cto/d/west...</td>\n      <td>hudson valley</td>\n      <td>https://hudsonvalley.craigslist.org</td>\n      <td>1000</td>\n      <td>NaN</td>\n      <td>NaN</td>\n      <td>NaN</td>\n      <td>NaN</td>\n      <td>NaN</td>\n      <td>...</td>\n      <td>NaN</td>\n      <td>NaN</td>\n      <td>NaN</td>\n      <td>NaN</td>\n      <td>NaN</td>\n      <td>NaN</td>\n      <td>ny</td>\n      <td>NaN</td>\n      <td>NaN</td>\n      <td>NaN</td>\n    </tr>\n    <tr>\n      <th>7</th>\n      <td>7220195662</td>\n      <td>https://hudsonvalley.craigslist.org/cto/d/poug...</td>\n      <td>hudson valley</td>\n      <td>https://hudsonvalley.craigslist.org</td>\n      <td>15995</td>\n      <td>NaN</td>\n      <td>NaN</td>\n      <td>NaN</td>\n      <td>NaN</td>\n      <td>NaN</td>\n      <td>...</td>\n      <td>NaN</td>\n      <td>NaN</td>\n      <td>NaN</td>\n      <td>NaN</td>\n      <td>NaN</td>\n      <td>NaN</td>\n      <td>ny</td>\n      <td>NaN</td>\n      <td>NaN</td>\n      <td>NaN</td>\n    </tr>\n    <tr>\n      <th>8</th>\n      <td>7209064557</td>\n      <td>https://medford.craigslist.org/cto/d/grants-pa...</td>\n      <td>medford-ashland</td>\n      <td>https://medford.craigslist.org</td>\n      <td>5000</td>\n      <td>NaN</td>\n      <td>NaN</td>\n      <td>NaN</td>\n      <td>NaN</td>\n      <td>NaN</td>\n      <td>...</td>\n      <td>NaN</td>\n      <td>NaN</td>\n      <td>NaN</td>\n      <td>NaN</td>\n      <td>NaN</td>\n      <td>NaN</td>\n      <td>or</td>\n      <td>NaN</td>\n      <td>NaN</td>\n      <td>NaN</td>\n    </tr>\n    <tr>\n      <th>9</th>\n      <td>7219485069</td>\n      <td>https://erie.craigslist.org/cto/d/erie-2012-su...</td>\n      <td>erie</td>\n      <td>https://erie.craigslist.org</td>\n      <td>3000</td>\n      <td>NaN</td>\n      <td>NaN</td>\n      <td>NaN</td>\n      <td>NaN</td>\n      <td>NaN</td>\n      <td>...</td>\n      <td>NaN</td>\n      <td>NaN</td>\n      <td>NaN</td>\n      <td>NaN</td>\n      <td>NaN</td>\n      <td>NaN</td>\n      <td>pa</td>\n      <td>NaN</td>\n      <td>NaN</td>\n      <td>NaN</td>\n    </tr>\n    <tr>\n      <th>10</th>\n      <td>7218893038</td>\n      <td>https://elpaso.craigslist.org/ctd/d/el-paso-20...</td>\n      <td>el paso</td>\n      <td>https://elpaso.craigslist.org</td>\n      <td>0</td>\n      <td>NaN</td>\n      <td>NaN</td>\n      <td>NaN</td>\n      <td>NaN</td>\n      <td>NaN</td>\n      <td>...</td>\n      <td>NaN</td>\n      <td>NaN</td>\n      <td>NaN</td>\n      <td>NaN</td>\n      <td>NaN</td>\n      <td>NaN</td>\n      <td>tx</td>\n      <td>NaN</td>\n      <td>NaN</td>\n      <td>NaN</td>\n    </tr>\n    <tr>\n      <th>11</th>\n      <td>7218325704</td>\n      <td>https://elpaso.craigslist.org/ctd/d/el-paso-20...</td>\n      <td>el paso</td>\n      <td>https://elpaso.craigslist.org</td>\n      <td>0</td>\n      <td>NaN</td>\n      <td>NaN</td>\n      <td>NaN</td>\n      <td>NaN</td>\n      <td>NaN</td>\n      <td>...</td>\n      <td>NaN</td>\n      <td>NaN</td>\n      <td>NaN</td>\n      <td>NaN</td>\n      <td>NaN</td>\n      <td>NaN</td>\n      <td>tx</td>\n      <td>NaN</td>\n      <td>NaN</td>\n      <td>NaN</td>\n    </tr>\n    <tr>\n      <th>12</th>\n      <td>7217788283</td>\n      <td>https://elpaso.craigslist.org/ctd/d/el-paso-20...</td>\n      <td>el paso</td>\n      <td>https://elpaso.craigslist.org</td>\n      <td>0</td>\n      <td>NaN</td>\n      <td>NaN</td>\n      <td>NaN</td>\n      <td>NaN</td>\n      <td>NaN</td>\n      <td>...</td>\n      <td>NaN</td>\n      <td>NaN</td>\n      <td>NaN</td>\n      <td>NaN</td>\n      <td>NaN</td>\n      <td>NaN</td>\n      <td>tx</td>\n      <td>NaN</td>\n      <td>NaN</td>\n      <td>NaN</td>\n    </tr>\n    <tr>\n      <th>13</th>\n      <td>7217147606</td>\n      <td>https://elpaso.craigslist.org/ctd/d/el-paso-20...</td>\n      <td>el paso</td>\n      <td>https://elpaso.craigslist.org</td>\n      <td>0</td>\n      <td>NaN</td>\n      <td>NaN</td>\n      <td>NaN</td>\n      <td>NaN</td>\n      <td>NaN</td>\n      <td>...</td>\n      <td>NaN</td>\n      <td>NaN</td>\n      <td>NaN</td>\n      <td>NaN</td>\n      <td>NaN</td>\n      <td>NaN</td>\n      <td>tx</td>\n      <td>NaN</td>\n      <td>NaN</td>\n      <td>NaN</td>\n    </tr>\n    <tr>\n      <th>14</th>\n      <td>7209027818</td>\n      <td>https://elpaso.craigslist.org/ctd/d/el-paso-20...</td>\n      <td>el paso</td>\n      <td>https://elpaso.craigslist.org</td>\n      <td>0</td>\n      <td>NaN</td>\n      <td>NaN</td>\n      <td>NaN</td>\n      <td>NaN</td>\n      <td>NaN</td>\n      <td>...</td>\n      <td>NaN</td>\n      <td>NaN</td>\n      <td>NaN</td>\n      <td>NaN</td>\n      <td>NaN</td>\n      <td>NaN</td>\n      <td>tx</td>\n      <td>NaN</td>\n      <td>NaN</td>\n      <td>NaN</td>\n    </tr>\n  </tbody>\n</table>\n<p>15 rows × 26 columns</p>\n</div>"
     },
     "metadata": {},
     "output_type": "display_data"
    },
    {
     "name": "stdout",
     "output_type": "stream",
     "text": [
      "<class 'pandas.core.frame.DataFrame'>\n",
      "RangeIndex: 426880 entries, 0 to 426879\n",
      "Data columns (total 26 columns):\n",
      " #   Column        Non-Null Count   Dtype  \n",
      "---  ------        --------------   -----  \n",
      " 0   id            426880 non-null  int64  \n",
      " 1   url           426880 non-null  object \n",
      " 2   region        426880 non-null  object \n",
      " 3   region_url    426880 non-null  object \n",
      " 4   price         426880 non-null  int64  \n",
      " 5   year          425675 non-null  float64\n",
      " 6   manufacturer  409234 non-null  object \n",
      " 7   model         421603 non-null  object \n",
      " 8   condition     252776 non-null  object \n",
      " 9   cylinders     249202 non-null  object \n",
      " 10  fuel          423867 non-null  object \n",
      " 11  odometer      422480 non-null  float64\n",
      " 12  title_status  418638 non-null  object \n",
      " 13  transmission  424324 non-null  object \n",
      " 14  VIN           265838 non-null  object \n",
      " 15  drive         296313 non-null  object \n",
      " 16  size          120519 non-null  object \n",
      " 17  type          334022 non-null  object \n",
      " 18  paint_color   296677 non-null  object \n",
      " 19  image_url     426812 non-null  object \n",
      " 20  description   426810 non-null  object \n",
      " 21  county        0 non-null       float64\n",
      " 22  state         426880 non-null  object \n",
      " 23  lat           420331 non-null  float64\n",
      " 24  long          420331 non-null  float64\n",
      " 25  posting_date  426812 non-null  object \n",
      "dtypes: float64(5), int64(2), object(19)\n",
      "memory usage: 84.7+ MB\n"
     ]
    },
    {
     "data": {
      "text/plain": "None"
     },
     "metadata": {},
     "output_type": "display_data"
    }
   ],
   "source": [
    "data = pd.read_csv(\"Data/vehicles.csv\")\n",
    "data_preprocessed = data.copy()\n",
    "\n",
    "display(data.head(15))\n",
    "display(data.info())"
   ]
  },
  {
   "cell_type": "code",
   "execution_count": 3,
   "metadata": {
    "ExecuteTime": {
     "end_time": "2023-07-09T16:59:59.985768300Z",
     "start_time": "2023-07-09T16:59:59.782313700Z"
    }
   },
   "outputs": [
    {
     "data": {
      "text/plain": "    year manufacturer model condition cylinders fuel  odometer title_status  \\\n0    NaN          NaN   NaN       NaN       NaN  NaN       NaN          NaN   \n1    NaN          NaN   NaN       NaN       NaN  NaN       NaN          NaN   \n2    NaN          NaN   NaN       NaN       NaN  NaN       NaN          NaN   \n3    NaN          NaN   NaN       NaN       NaN  NaN       NaN          NaN   \n4    NaN          NaN   NaN       NaN       NaN  NaN       NaN          NaN   \n5    NaN          NaN   NaN       NaN       NaN  NaN       NaN          NaN   \n6    NaN          NaN   NaN       NaN       NaN  NaN       NaN          NaN   \n7    NaN          NaN   NaN       NaN       NaN  NaN       NaN          NaN   \n8    NaN          NaN   NaN       NaN       NaN  NaN       NaN          NaN   \n9    NaN          NaN   NaN       NaN       NaN  NaN       NaN          NaN   \n10   NaN          NaN   NaN       NaN       NaN  NaN       NaN          NaN   \n11   NaN          NaN   NaN       NaN       NaN  NaN       NaN          NaN   \n12   NaN          NaN   NaN       NaN       NaN  NaN       NaN          NaN   \n13   NaN          NaN   NaN       NaN       NaN  NaN       NaN          NaN   \n14   NaN          NaN   NaN       NaN       NaN  NaN       NaN          NaN   \n\n   transmission drive type paint_color  price  \n0           NaN   NaN  NaN         NaN   6000  \n1           NaN   NaN  NaN         NaN  11900  \n2           NaN   NaN  NaN         NaN  21000  \n3           NaN   NaN  NaN         NaN   1500  \n4           NaN   NaN  NaN         NaN   4900  \n5           NaN   NaN  NaN         NaN   1600  \n6           NaN   NaN  NaN         NaN   1000  \n7           NaN   NaN  NaN         NaN  15995  \n8           NaN   NaN  NaN         NaN   5000  \n9           NaN   NaN  NaN         NaN   3000  \n10          NaN   NaN  NaN         NaN      0  \n11          NaN   NaN  NaN         NaN      0  \n12          NaN   NaN  NaN         NaN      0  \n13          NaN   NaN  NaN         NaN      0  \n14          NaN   NaN  NaN         NaN      0  ",
      "text/html": "<div>\n<style scoped>\n    .dataframe tbody tr th:only-of-type {\n        vertical-align: middle;\n    }\n\n    .dataframe tbody tr th {\n        vertical-align: top;\n    }\n\n    .dataframe thead th {\n        text-align: right;\n    }\n</style>\n<table border=\"1\" class=\"dataframe\">\n  <thead>\n    <tr style=\"text-align: right;\">\n      <th></th>\n      <th>year</th>\n      <th>manufacturer</th>\n      <th>model</th>\n      <th>condition</th>\n      <th>cylinders</th>\n      <th>fuel</th>\n      <th>odometer</th>\n      <th>title_status</th>\n      <th>transmission</th>\n      <th>drive</th>\n      <th>type</th>\n      <th>paint_color</th>\n      <th>price</th>\n    </tr>\n  </thead>\n  <tbody>\n    <tr>\n      <th>0</th>\n      <td>NaN</td>\n      <td>NaN</td>\n      <td>NaN</td>\n      <td>NaN</td>\n      <td>NaN</td>\n      <td>NaN</td>\n      <td>NaN</td>\n      <td>NaN</td>\n      <td>NaN</td>\n      <td>NaN</td>\n      <td>NaN</td>\n      <td>NaN</td>\n      <td>6000</td>\n    </tr>\n    <tr>\n      <th>1</th>\n      <td>NaN</td>\n      <td>NaN</td>\n      <td>NaN</td>\n      <td>NaN</td>\n      <td>NaN</td>\n      <td>NaN</td>\n      <td>NaN</td>\n      <td>NaN</td>\n      <td>NaN</td>\n      <td>NaN</td>\n      <td>NaN</td>\n      <td>NaN</td>\n      <td>11900</td>\n    </tr>\n    <tr>\n      <th>2</th>\n      <td>NaN</td>\n      <td>NaN</td>\n      <td>NaN</td>\n      <td>NaN</td>\n      <td>NaN</td>\n      <td>NaN</td>\n      <td>NaN</td>\n      <td>NaN</td>\n      <td>NaN</td>\n      <td>NaN</td>\n      <td>NaN</td>\n      <td>NaN</td>\n      <td>21000</td>\n    </tr>\n    <tr>\n      <th>3</th>\n      <td>NaN</td>\n      <td>NaN</td>\n      <td>NaN</td>\n      <td>NaN</td>\n      <td>NaN</td>\n      <td>NaN</td>\n      <td>NaN</td>\n      <td>NaN</td>\n      <td>NaN</td>\n      <td>NaN</td>\n      <td>NaN</td>\n      <td>NaN</td>\n      <td>1500</td>\n    </tr>\n    <tr>\n      <th>4</th>\n      <td>NaN</td>\n      <td>NaN</td>\n      <td>NaN</td>\n      <td>NaN</td>\n      <td>NaN</td>\n      <td>NaN</td>\n      <td>NaN</td>\n      <td>NaN</td>\n      <td>NaN</td>\n      <td>NaN</td>\n      <td>NaN</td>\n      <td>NaN</td>\n      <td>4900</td>\n    </tr>\n    <tr>\n      <th>5</th>\n      <td>NaN</td>\n      <td>NaN</td>\n      <td>NaN</td>\n      <td>NaN</td>\n      <td>NaN</td>\n      <td>NaN</td>\n      <td>NaN</td>\n      <td>NaN</td>\n      <td>NaN</td>\n      <td>NaN</td>\n      <td>NaN</td>\n      <td>NaN</td>\n      <td>1600</td>\n    </tr>\n    <tr>\n      <th>6</th>\n      <td>NaN</td>\n      <td>NaN</td>\n      <td>NaN</td>\n      <td>NaN</td>\n      <td>NaN</td>\n      <td>NaN</td>\n      <td>NaN</td>\n      <td>NaN</td>\n      <td>NaN</td>\n      <td>NaN</td>\n      <td>NaN</td>\n      <td>NaN</td>\n      <td>1000</td>\n    </tr>\n    <tr>\n      <th>7</th>\n      <td>NaN</td>\n      <td>NaN</td>\n      <td>NaN</td>\n      <td>NaN</td>\n      <td>NaN</td>\n      <td>NaN</td>\n      <td>NaN</td>\n      <td>NaN</td>\n      <td>NaN</td>\n      <td>NaN</td>\n      <td>NaN</td>\n      <td>NaN</td>\n      <td>15995</td>\n    </tr>\n    <tr>\n      <th>8</th>\n      <td>NaN</td>\n      <td>NaN</td>\n      <td>NaN</td>\n      <td>NaN</td>\n      <td>NaN</td>\n      <td>NaN</td>\n      <td>NaN</td>\n      <td>NaN</td>\n      <td>NaN</td>\n      <td>NaN</td>\n      <td>NaN</td>\n      <td>NaN</td>\n      <td>5000</td>\n    </tr>\n    <tr>\n      <th>9</th>\n      <td>NaN</td>\n      <td>NaN</td>\n      <td>NaN</td>\n      <td>NaN</td>\n      <td>NaN</td>\n      <td>NaN</td>\n      <td>NaN</td>\n      <td>NaN</td>\n      <td>NaN</td>\n      <td>NaN</td>\n      <td>NaN</td>\n      <td>NaN</td>\n      <td>3000</td>\n    </tr>\n    <tr>\n      <th>10</th>\n      <td>NaN</td>\n      <td>NaN</td>\n      <td>NaN</td>\n      <td>NaN</td>\n      <td>NaN</td>\n      <td>NaN</td>\n      <td>NaN</td>\n      <td>NaN</td>\n      <td>NaN</td>\n      <td>NaN</td>\n      <td>NaN</td>\n      <td>NaN</td>\n      <td>0</td>\n    </tr>\n    <tr>\n      <th>11</th>\n      <td>NaN</td>\n      <td>NaN</td>\n      <td>NaN</td>\n      <td>NaN</td>\n      <td>NaN</td>\n      <td>NaN</td>\n      <td>NaN</td>\n      <td>NaN</td>\n      <td>NaN</td>\n      <td>NaN</td>\n      <td>NaN</td>\n      <td>NaN</td>\n      <td>0</td>\n    </tr>\n    <tr>\n      <th>12</th>\n      <td>NaN</td>\n      <td>NaN</td>\n      <td>NaN</td>\n      <td>NaN</td>\n      <td>NaN</td>\n      <td>NaN</td>\n      <td>NaN</td>\n      <td>NaN</td>\n      <td>NaN</td>\n      <td>NaN</td>\n      <td>NaN</td>\n      <td>NaN</td>\n      <td>0</td>\n    </tr>\n    <tr>\n      <th>13</th>\n      <td>NaN</td>\n      <td>NaN</td>\n      <td>NaN</td>\n      <td>NaN</td>\n      <td>NaN</td>\n      <td>NaN</td>\n      <td>NaN</td>\n      <td>NaN</td>\n      <td>NaN</td>\n      <td>NaN</td>\n      <td>NaN</td>\n      <td>NaN</td>\n      <td>0</td>\n    </tr>\n    <tr>\n      <th>14</th>\n      <td>NaN</td>\n      <td>NaN</td>\n      <td>NaN</td>\n      <td>NaN</td>\n      <td>NaN</td>\n      <td>NaN</td>\n      <td>NaN</td>\n      <td>NaN</td>\n      <td>NaN</td>\n      <td>NaN</td>\n      <td>NaN</td>\n      <td>NaN</td>\n      <td>0</td>\n    </tr>\n  </tbody>\n</table>\n</div>"
     },
     "metadata": {},
     "output_type": "display_data"
    }
   ],
   "source": [
    "data_preprocessed.insert(len(data_preprocessed.columns) - 1, \"price\", data_preprocessed.pop(\"price\"))\n",
    "drop_columns = [\"id\", \"url\", \"region\", \"region_url\", \"VIN\", \"size\", \"image_url\", \"description\", \"county\", \"state\", \"lat\", \"long\", \"posting_date\"]\n",
    "data_preprocessed = data_preprocessed.drop(columns=drop_columns)\n",
    "\n",
    "display(data_preprocessed.head(15))"
   ]
  },
  {
   "cell_type": "code",
   "execution_count": 4,
   "metadata": {
    "ExecuteTime": {
     "end_time": "2023-07-09T17:00:00.369713200Z",
     "start_time": "2023-07-09T16:59:59.983773800Z"
    }
   },
   "outputs": [
    {
     "data": {
      "text/plain": "good         121456\nexcellent    101467\nlike new      21178\nfair           6769\nnew            1305\nsalvage         601\nName: condition, dtype: int64"
     },
     "metadata": {},
     "output_type": "display_data"
    },
    {
     "data": {
      "text/plain": "good         128225\nexcellent    101467\nnew           22483\nName: condition, dtype: int64"
     },
     "metadata": {},
     "output_type": "display_data"
    }
   ],
   "source": [
    "display(data_preprocessed[\"condition\"].value_counts())\n",
    "\n",
    "data_preprocessed[\"condition\"] = data_preprocessed[\"condition\"].apply(lambda x: \"new\" if x == \"like new\" else x)\n",
    "data_preprocessed[\"condition\"] = data_preprocessed[\"condition\"].apply(lambda x: \"good\" if x == \"fair\" else x)\n",
    "data_preprocessed[\"condition\"] = data_preprocessed[\"condition\"].replace(\"salvage\", np.nan)\n",
    "\n",
    "display(data_preprocessed[\"condition\"].value_counts())"
   ]
  },
  {
   "cell_type": "code",
   "execution_count": 5,
   "metadata": {
    "ExecuteTime": {
     "end_time": "2023-07-09T17:00:00.630046100Z",
     "start_time": "2023-07-09T17:00:00.375698800Z"
    }
   },
   "outputs": [
    {
     "data": {
      "text/plain": "6 cylinders     94169\n4 cylinders     77642\n8 cylinders     72062\n5 cylinders      1712\n10 cylinders     1455\nother            1298\n3 cylinders       655\n12 cylinders      209\nName: cylinders, dtype: int64"
     },
     "metadata": {},
     "output_type": "display_data"
    },
    {
     "data": {
      "text/plain": "6 cylinders    94169\n4 cylinders    77642\n8 cylinders    72062\nName: cylinders, dtype: int64"
     },
     "metadata": {},
     "output_type": "display_data"
    }
   ],
   "source": [
    "display(data_preprocessed[\"cylinders\"].value_counts())\n",
    "\n",
    "data_preprocessed[\"cylinders\"] = data_preprocessed[\"cylinders\"].apply(lambda x: x if x in (\"4 cylinders\", \"6 cylinders\", \"8 cylinders\") else np.nan)\n",
    "\n",
    "display(data_preprocessed[\"cylinders\"].value_counts())"
   ]
  },
  {
   "cell_type": "code",
   "execution_count": 6,
   "metadata": {
    "ExecuteTime": {
     "end_time": "2023-07-09T17:00:00.813226400Z",
     "start_time": "2023-07-09T17:00:00.632043500Z"
    }
   },
   "outputs": [
    {
     "data": {
      "text/plain": "4wd    131904\nfwd    105517\nrwd     58892\nName: drive, dtype: int64"
     },
     "metadata": {},
     "output_type": "display_data"
    },
    {
     "data": {
      "text/plain": "4wd    131904\nawd    130567\nfwd    105517\nrwd     58892\nName: drive, dtype: int64"
     },
     "metadata": {},
     "output_type": "display_data"
    }
   ],
   "source": [
    "display(data_preprocessed[\"drive\"].value_counts())\n",
    "\n",
    "data_preprocessed[\"drive\"] = data_preprocessed[\"drive\"].fillna(\"awd\")\n",
    "\n",
    "display(data_preprocessed[\"drive\"].value_counts())"
   ]
  },
  {
   "cell_type": "code",
   "execution_count": 7,
   "metadata": {
    "ExecuteTime": {
     "end_time": "2023-07-09T17:00:01.030850900Z",
     "start_time": "2023-07-09T17:00:00.814223900Z"
    }
   },
   "outputs": [
    {
     "data": {
      "text/plain": "sedan          87056\nSUV            77284\npickup         43510\ntruck          35279\nother          22110\ncoupe          19204\nhatchback      16598\nwagon          10751\nvan             8548\nconvertible     7731\nmini-van        4825\noffroad          609\nbus              517\nName: type, dtype: int64"
     },
     "metadata": {},
     "output_type": "display_data"
    },
    {
     "data": {
      "text/plain": "sedan          87056\nSUV            77284\npickup         43510\ntruck          35279\ncoupe          19204\nhatchback      16598\nwagon          10751\nvan             8548\nconvertible     7731\nmini-van        4825\nName: type, dtype: int64"
     },
     "metadata": {},
     "output_type": "display_data"
    }
   ],
   "source": [
    "display(data_preprocessed[\"type\"].value_counts())\n",
    "\n",
    "data_preprocessed[\"type\"] = data_preprocessed[\"type\"].apply(lambda x: \"other\" if x in (\"offroad\", \"bus\") else x)\n",
    "data_preprocessed[\"type\"] = data_preprocessed[\"type\"].replace(\"other\", np.nan)\n",
    "\n",
    "display(data_preprocessed[\"type\"].value_counts())"
   ]
  },
  {
   "cell_type": "code",
   "execution_count": 8,
   "metadata": {
    "ExecuteTime": {
     "end_time": "2023-07-09T17:00:01.251284300Z",
     "start_time": "2023-07-09T17:00:01.035837200Z"
    }
   },
   "outputs": [
    {
     "data": {
      "text/plain": "white     79285\nblack     62861\nsilver    42970\nblue      31223\nred       30473\ngrey      24416\ngreen      7343\ncustom     6700\nbrown      6593\nyellow     2142\norange     1984\npurple      687\nName: paint_color, dtype: int64"
     },
     "metadata": {},
     "output_type": "display_data"
    },
    {
     "data": {
      "text/plain": "white     79285\nblack     62861\nsilver    42970\nblue      31223\nred       30473\ngrey      24416\ngreen      7343\ncustom     6700\nbrown      6593\nName: paint_color, dtype: int64"
     },
     "metadata": {},
     "output_type": "display_data"
    }
   ],
   "source": [
    "display(data_preprocessed[\"paint_color\"].value_counts())\n",
    "\n",
    "data_preprocessed[\"paint_color\"] = data_preprocessed[\"paint_color\"].apply(lambda x: np.nan if x in (\"yellow\", \"orange\", \"purple\") else x)\n",
    "\n",
    "display(data_preprocessed[\"paint_color\"].value_counts())"
   ]
  },
  {
   "cell_type": "code",
   "execution_count": 9,
   "metadata": {
    "ExecuteTime": {
     "end_time": "2023-07-09T17:00:02.487119100Z",
     "start_time": "2023-07-09T17:00:01.253279200Z"
    }
   },
   "outputs": [
    {
     "data": {
      "text/plain": "      year manufacturer                        model  condition    cylinders  \\\n27  2014.0          gmc     sierra 1500 crew cab slt       good  8 cylinders   \n28  2010.0    chevrolet               silverado 1500       good  8 cylinders   \n29  2020.0    chevrolet          silverado 1500 crew       good  8 cylinders   \n30  2017.0       toyota         tundra double cab sr       good  8 cylinders   \n31  2013.0         ford                    f-150 xlt  excellent  6 cylinders   \n32  2012.0          gmc  sierra 2500 hd extended cab       good  8 cylinders   \n33  2016.0    chevrolet        silverado 1500 double       good  6 cylinders   \n34  2019.0       toyota                       tacoma  excellent  6 cylinders   \n35  2016.0    chevrolet        colorado extended cab       good  6 cylinders   \n39  2017.0    chevrolet       silverado 1500 regular       good  6 cylinders   \n42  2016.0    chevrolet           camaro ss coupe 2d       good  8 cylinders   \n45  2018.0       nissan     frontier crew cab pro-4x       good  6 cylinders   \n47  2018.0         ford  f150 super cab xl pickup 4d       good  6 cylinders   \n51  2017.0          ram   1500 regular cab tradesman       good  8 cylinders   \n55  2004.0         ford              f250 super duty       good  8 cylinders   \n\n      fuel  odometer title_status transmission drive    type paint_color  \\\n27     gas   57923.0        clean        other   awd  pickup       white   \n28     gas   71229.0        clean        other   awd  pickup        blue   \n29     gas   19160.0        clean        other   awd  pickup         red   \n30     gas   41124.0        clean        other   awd  pickup         red   \n31     gas  128000.0        clean    automatic   rwd   truck       black   \n32     gas   68696.0        clean        other   4wd  pickup       black   \n33     gas   29499.0        clean        other   4wd  pickup      silver   \n34     gas   43000.0        clean    automatic   4wd   truck        grey   \n35     gas   17302.0        clean        other   4wd  pickup         red   \n39     gas   40784.0        clean        other   awd  pickup       white   \n42     gas    9704.0        clean        other   rwd   coupe         red   \n45     gas   37332.0        clean        other   4wd  pickup      silver   \n47     gas   20856.0        clean        other   awd  pickup       white   \n51     gas   39508.0        clean        other   awd  pickup       white   \n55  diesel   88000.0        clean    automatic   4wd  pickup        blue   \n\n    price  \n27  33590  \n28  22590  \n29  39590  \n30  30990  \n31  15000  \n32  27990  \n33  34590  \n34  35000  \n35  29990  \n39  24590  \n42  37990  \n45  27990  \n47  34590  \n51  22590  \n55  19900  ",
      "text/html": "<div>\n<style scoped>\n    .dataframe tbody tr th:only-of-type {\n        vertical-align: middle;\n    }\n\n    .dataframe tbody tr th {\n        vertical-align: top;\n    }\n\n    .dataframe thead th {\n        text-align: right;\n    }\n</style>\n<table border=\"1\" class=\"dataframe\">\n  <thead>\n    <tr style=\"text-align: right;\">\n      <th></th>\n      <th>year</th>\n      <th>manufacturer</th>\n      <th>model</th>\n      <th>condition</th>\n      <th>cylinders</th>\n      <th>fuel</th>\n      <th>odometer</th>\n      <th>title_status</th>\n      <th>transmission</th>\n      <th>drive</th>\n      <th>type</th>\n      <th>paint_color</th>\n      <th>price</th>\n    </tr>\n  </thead>\n  <tbody>\n    <tr>\n      <th>27</th>\n      <td>2014.0</td>\n      <td>gmc</td>\n      <td>sierra 1500 crew cab slt</td>\n      <td>good</td>\n      <td>8 cylinders</td>\n      <td>gas</td>\n      <td>57923.0</td>\n      <td>clean</td>\n      <td>other</td>\n      <td>awd</td>\n      <td>pickup</td>\n      <td>white</td>\n      <td>33590</td>\n    </tr>\n    <tr>\n      <th>28</th>\n      <td>2010.0</td>\n      <td>chevrolet</td>\n      <td>silverado 1500</td>\n      <td>good</td>\n      <td>8 cylinders</td>\n      <td>gas</td>\n      <td>71229.0</td>\n      <td>clean</td>\n      <td>other</td>\n      <td>awd</td>\n      <td>pickup</td>\n      <td>blue</td>\n      <td>22590</td>\n    </tr>\n    <tr>\n      <th>29</th>\n      <td>2020.0</td>\n      <td>chevrolet</td>\n      <td>silverado 1500 crew</td>\n      <td>good</td>\n      <td>8 cylinders</td>\n      <td>gas</td>\n      <td>19160.0</td>\n      <td>clean</td>\n      <td>other</td>\n      <td>awd</td>\n      <td>pickup</td>\n      <td>red</td>\n      <td>39590</td>\n    </tr>\n    <tr>\n      <th>30</th>\n      <td>2017.0</td>\n      <td>toyota</td>\n      <td>tundra double cab sr</td>\n      <td>good</td>\n      <td>8 cylinders</td>\n      <td>gas</td>\n      <td>41124.0</td>\n      <td>clean</td>\n      <td>other</td>\n      <td>awd</td>\n      <td>pickup</td>\n      <td>red</td>\n      <td>30990</td>\n    </tr>\n    <tr>\n      <th>31</th>\n      <td>2013.0</td>\n      <td>ford</td>\n      <td>f-150 xlt</td>\n      <td>excellent</td>\n      <td>6 cylinders</td>\n      <td>gas</td>\n      <td>128000.0</td>\n      <td>clean</td>\n      <td>automatic</td>\n      <td>rwd</td>\n      <td>truck</td>\n      <td>black</td>\n      <td>15000</td>\n    </tr>\n    <tr>\n      <th>32</th>\n      <td>2012.0</td>\n      <td>gmc</td>\n      <td>sierra 2500 hd extended cab</td>\n      <td>good</td>\n      <td>8 cylinders</td>\n      <td>gas</td>\n      <td>68696.0</td>\n      <td>clean</td>\n      <td>other</td>\n      <td>4wd</td>\n      <td>pickup</td>\n      <td>black</td>\n      <td>27990</td>\n    </tr>\n    <tr>\n      <th>33</th>\n      <td>2016.0</td>\n      <td>chevrolet</td>\n      <td>silverado 1500 double</td>\n      <td>good</td>\n      <td>6 cylinders</td>\n      <td>gas</td>\n      <td>29499.0</td>\n      <td>clean</td>\n      <td>other</td>\n      <td>4wd</td>\n      <td>pickup</td>\n      <td>silver</td>\n      <td>34590</td>\n    </tr>\n    <tr>\n      <th>34</th>\n      <td>2019.0</td>\n      <td>toyota</td>\n      <td>tacoma</td>\n      <td>excellent</td>\n      <td>6 cylinders</td>\n      <td>gas</td>\n      <td>43000.0</td>\n      <td>clean</td>\n      <td>automatic</td>\n      <td>4wd</td>\n      <td>truck</td>\n      <td>grey</td>\n      <td>35000</td>\n    </tr>\n    <tr>\n      <th>35</th>\n      <td>2016.0</td>\n      <td>chevrolet</td>\n      <td>colorado extended cab</td>\n      <td>good</td>\n      <td>6 cylinders</td>\n      <td>gas</td>\n      <td>17302.0</td>\n      <td>clean</td>\n      <td>other</td>\n      <td>4wd</td>\n      <td>pickup</td>\n      <td>red</td>\n      <td>29990</td>\n    </tr>\n    <tr>\n      <th>39</th>\n      <td>2017.0</td>\n      <td>chevrolet</td>\n      <td>silverado 1500 regular</td>\n      <td>good</td>\n      <td>6 cylinders</td>\n      <td>gas</td>\n      <td>40784.0</td>\n      <td>clean</td>\n      <td>other</td>\n      <td>awd</td>\n      <td>pickup</td>\n      <td>white</td>\n      <td>24590</td>\n    </tr>\n    <tr>\n      <th>42</th>\n      <td>2016.0</td>\n      <td>chevrolet</td>\n      <td>camaro ss coupe 2d</td>\n      <td>good</td>\n      <td>8 cylinders</td>\n      <td>gas</td>\n      <td>9704.0</td>\n      <td>clean</td>\n      <td>other</td>\n      <td>rwd</td>\n      <td>coupe</td>\n      <td>red</td>\n      <td>37990</td>\n    </tr>\n    <tr>\n      <th>45</th>\n      <td>2018.0</td>\n      <td>nissan</td>\n      <td>frontier crew cab pro-4x</td>\n      <td>good</td>\n      <td>6 cylinders</td>\n      <td>gas</td>\n      <td>37332.0</td>\n      <td>clean</td>\n      <td>other</td>\n      <td>4wd</td>\n      <td>pickup</td>\n      <td>silver</td>\n      <td>27990</td>\n    </tr>\n    <tr>\n      <th>47</th>\n      <td>2018.0</td>\n      <td>ford</td>\n      <td>f150 super cab xl pickup 4d</td>\n      <td>good</td>\n      <td>6 cylinders</td>\n      <td>gas</td>\n      <td>20856.0</td>\n      <td>clean</td>\n      <td>other</td>\n      <td>awd</td>\n      <td>pickup</td>\n      <td>white</td>\n      <td>34590</td>\n    </tr>\n    <tr>\n      <th>51</th>\n      <td>2017.0</td>\n      <td>ram</td>\n      <td>1500 regular cab tradesman</td>\n      <td>good</td>\n      <td>8 cylinders</td>\n      <td>gas</td>\n      <td>39508.0</td>\n      <td>clean</td>\n      <td>other</td>\n      <td>awd</td>\n      <td>pickup</td>\n      <td>white</td>\n      <td>22590</td>\n    </tr>\n    <tr>\n      <th>55</th>\n      <td>2004.0</td>\n      <td>ford</td>\n      <td>f250 super duty</td>\n      <td>good</td>\n      <td>8 cylinders</td>\n      <td>diesel</td>\n      <td>88000.0</td>\n      <td>clean</td>\n      <td>automatic</td>\n      <td>4wd</td>\n      <td>pickup</td>\n      <td>blue</td>\n      <td>19900</td>\n    </tr>\n  </tbody>\n</table>\n</div>"
     },
     "metadata": {},
     "output_type": "display_data"
    },
    {
     "name": "stdout",
     "output_type": "stream",
     "text": [
      "<class 'pandas.core.frame.DataFrame'>\n",
      "Int64Index: 119453 entries, 27 to 426878\n",
      "Data columns (total 13 columns):\n",
      " #   Column        Non-Null Count   Dtype  \n",
      "---  ------        --------------   -----  \n",
      " 0   year          119453 non-null  float64\n",
      " 1   manufacturer  119453 non-null  object \n",
      " 2   model         119453 non-null  object \n",
      " 3   condition     119453 non-null  object \n",
      " 4   cylinders     119453 non-null  object \n",
      " 5   fuel          119453 non-null  object \n",
      " 6   odometer      119453 non-null  float64\n",
      " 7   title_status  119453 non-null  object \n",
      " 8   transmission  119453 non-null  object \n",
      " 9   drive         119453 non-null  object \n",
      " 10  type          119453 non-null  object \n",
      " 11  paint_color   119453 non-null  object \n",
      " 12  price         119453 non-null  int64  \n",
      "dtypes: float64(2), int64(1), object(10)\n",
      "memory usage: 12.8+ MB\n"
     ]
    },
    {
     "data": {
      "text/plain": "None"
     },
     "metadata": {},
     "output_type": "display_data"
    }
   ],
   "source": [
    "data_preprocessed = data_preprocessed.dropna()\n",
    "\n",
    "display(data_preprocessed.head(15))\n",
    "display(data_preprocessed.info())"
   ]
  },
  {
   "cell_type": "code",
   "execution_count": 10,
   "metadata": {
    "ExecuteTime": {
     "end_time": "2023-07-09T17:00:02.922130300Z",
     "start_time": "2023-07-09T17:00:02.492109100Z"
    }
   },
   "outputs": [
    {
     "data": {
      "text/plain": "    year manufacturer                        model  condition    cylinders  \\\n27  2014          gmc     sierra 1500 crew cab slt       good  8 cylinders   \n28  2010    chevrolet               silverado 1500       good  8 cylinders   \n29  2020    chevrolet          silverado 1500 crew       good  8 cylinders   \n30  2017       toyota         tundra double cab sr       good  8 cylinders   \n31  2013         ford                    f-150 xlt  excellent  6 cylinders   \n32  2012          gmc  sierra 2500 hd extended cab       good  8 cylinders   \n33  2016    chevrolet        silverado 1500 double       good  6 cylinders   \n34  2019       toyota                       tacoma  excellent  6 cylinders   \n35  2016    chevrolet        colorado extended cab       good  6 cylinders   \n39  2017    chevrolet       silverado 1500 regular       good  6 cylinders   \n42  2016    chevrolet           camaro ss coupe 2d       good  8 cylinders   \n45  2018       nissan     frontier crew cab pro-4x       good  6 cylinders   \n47  2018         ford  f150 super cab xl pickup 4d       good  6 cylinders   \n51  2017          ram   1500 regular cab tradesman       good  8 cylinders   \n55  2004         ford              f250 super duty       good  8 cylinders   \n\n      fuel  odometer title_status transmission drive    type paint_color  \\\n27     gas   57923.0        clean        other   awd  pickup       white   \n28     gas   71229.0        clean        other   awd  pickup        blue   \n29     gas   19160.0        clean        other   awd  pickup         red   \n30     gas   41124.0        clean        other   awd  pickup         red   \n31     gas  128000.0        clean    automatic   rwd   truck       black   \n32     gas   68696.0        clean        other   4wd  pickup       black   \n33     gas   29499.0        clean        other   4wd  pickup      silver   \n34     gas   43000.0        clean    automatic   4wd   truck        grey   \n35     gas   17302.0        clean        other   4wd  pickup         red   \n39     gas   40784.0        clean        other   awd  pickup       white   \n42     gas    9704.0        clean        other   rwd   coupe         red   \n45     gas   37332.0        clean        other   4wd  pickup      silver   \n47     gas   20856.0        clean        other   awd  pickup       white   \n51     gas   39508.0        clean        other   awd  pickup       white   \n55  diesel   88000.0        clean    automatic   4wd  pickup        blue   \n\n      price  \n27  33590.0  \n28  22590.0  \n29  39590.0  \n30  30990.0  \n31  15000.0  \n32  27990.0  \n33  34590.0  \n34  35000.0  \n35  29990.0  \n39  24590.0  \n42  37990.0  \n45  27990.0  \n47  34590.0  \n51  22590.0  \n55  19900.0  ",
      "text/html": "<div>\n<style scoped>\n    .dataframe tbody tr th:only-of-type {\n        vertical-align: middle;\n    }\n\n    .dataframe tbody tr th {\n        vertical-align: top;\n    }\n\n    .dataframe thead th {\n        text-align: right;\n    }\n</style>\n<table border=\"1\" class=\"dataframe\">\n  <thead>\n    <tr style=\"text-align: right;\">\n      <th></th>\n      <th>year</th>\n      <th>manufacturer</th>\n      <th>model</th>\n      <th>condition</th>\n      <th>cylinders</th>\n      <th>fuel</th>\n      <th>odometer</th>\n      <th>title_status</th>\n      <th>transmission</th>\n      <th>drive</th>\n      <th>type</th>\n      <th>paint_color</th>\n      <th>price</th>\n    </tr>\n  </thead>\n  <tbody>\n    <tr>\n      <th>27</th>\n      <td>2014</td>\n      <td>gmc</td>\n      <td>sierra 1500 crew cab slt</td>\n      <td>good</td>\n      <td>8 cylinders</td>\n      <td>gas</td>\n      <td>57923.0</td>\n      <td>clean</td>\n      <td>other</td>\n      <td>awd</td>\n      <td>pickup</td>\n      <td>white</td>\n      <td>33590.0</td>\n    </tr>\n    <tr>\n      <th>28</th>\n      <td>2010</td>\n      <td>chevrolet</td>\n      <td>silverado 1500</td>\n      <td>good</td>\n      <td>8 cylinders</td>\n      <td>gas</td>\n      <td>71229.0</td>\n      <td>clean</td>\n      <td>other</td>\n      <td>awd</td>\n      <td>pickup</td>\n      <td>blue</td>\n      <td>22590.0</td>\n    </tr>\n    <tr>\n      <th>29</th>\n      <td>2020</td>\n      <td>chevrolet</td>\n      <td>silverado 1500 crew</td>\n      <td>good</td>\n      <td>8 cylinders</td>\n      <td>gas</td>\n      <td>19160.0</td>\n      <td>clean</td>\n      <td>other</td>\n      <td>awd</td>\n      <td>pickup</td>\n      <td>red</td>\n      <td>39590.0</td>\n    </tr>\n    <tr>\n      <th>30</th>\n      <td>2017</td>\n      <td>toyota</td>\n      <td>tundra double cab sr</td>\n      <td>good</td>\n      <td>8 cylinders</td>\n      <td>gas</td>\n      <td>41124.0</td>\n      <td>clean</td>\n      <td>other</td>\n      <td>awd</td>\n      <td>pickup</td>\n      <td>red</td>\n      <td>30990.0</td>\n    </tr>\n    <tr>\n      <th>31</th>\n      <td>2013</td>\n      <td>ford</td>\n      <td>f-150 xlt</td>\n      <td>excellent</td>\n      <td>6 cylinders</td>\n      <td>gas</td>\n      <td>128000.0</td>\n      <td>clean</td>\n      <td>automatic</td>\n      <td>rwd</td>\n      <td>truck</td>\n      <td>black</td>\n      <td>15000.0</td>\n    </tr>\n    <tr>\n      <th>32</th>\n      <td>2012</td>\n      <td>gmc</td>\n      <td>sierra 2500 hd extended cab</td>\n      <td>good</td>\n      <td>8 cylinders</td>\n      <td>gas</td>\n      <td>68696.0</td>\n      <td>clean</td>\n      <td>other</td>\n      <td>4wd</td>\n      <td>pickup</td>\n      <td>black</td>\n      <td>27990.0</td>\n    </tr>\n    <tr>\n      <th>33</th>\n      <td>2016</td>\n      <td>chevrolet</td>\n      <td>silverado 1500 double</td>\n      <td>good</td>\n      <td>6 cylinders</td>\n      <td>gas</td>\n      <td>29499.0</td>\n      <td>clean</td>\n      <td>other</td>\n      <td>4wd</td>\n      <td>pickup</td>\n      <td>silver</td>\n      <td>34590.0</td>\n    </tr>\n    <tr>\n      <th>34</th>\n      <td>2019</td>\n      <td>toyota</td>\n      <td>tacoma</td>\n      <td>excellent</td>\n      <td>6 cylinders</td>\n      <td>gas</td>\n      <td>43000.0</td>\n      <td>clean</td>\n      <td>automatic</td>\n      <td>4wd</td>\n      <td>truck</td>\n      <td>grey</td>\n      <td>35000.0</td>\n    </tr>\n    <tr>\n      <th>35</th>\n      <td>2016</td>\n      <td>chevrolet</td>\n      <td>colorado extended cab</td>\n      <td>good</td>\n      <td>6 cylinders</td>\n      <td>gas</td>\n      <td>17302.0</td>\n      <td>clean</td>\n      <td>other</td>\n      <td>4wd</td>\n      <td>pickup</td>\n      <td>red</td>\n      <td>29990.0</td>\n    </tr>\n    <tr>\n      <th>39</th>\n      <td>2017</td>\n      <td>chevrolet</td>\n      <td>silverado 1500 regular</td>\n      <td>good</td>\n      <td>6 cylinders</td>\n      <td>gas</td>\n      <td>40784.0</td>\n      <td>clean</td>\n      <td>other</td>\n      <td>awd</td>\n      <td>pickup</td>\n      <td>white</td>\n      <td>24590.0</td>\n    </tr>\n    <tr>\n      <th>42</th>\n      <td>2016</td>\n      <td>chevrolet</td>\n      <td>camaro ss coupe 2d</td>\n      <td>good</td>\n      <td>8 cylinders</td>\n      <td>gas</td>\n      <td>9704.0</td>\n      <td>clean</td>\n      <td>other</td>\n      <td>rwd</td>\n      <td>coupe</td>\n      <td>red</td>\n      <td>37990.0</td>\n    </tr>\n    <tr>\n      <th>45</th>\n      <td>2018</td>\n      <td>nissan</td>\n      <td>frontier crew cab pro-4x</td>\n      <td>good</td>\n      <td>6 cylinders</td>\n      <td>gas</td>\n      <td>37332.0</td>\n      <td>clean</td>\n      <td>other</td>\n      <td>4wd</td>\n      <td>pickup</td>\n      <td>silver</td>\n      <td>27990.0</td>\n    </tr>\n    <tr>\n      <th>47</th>\n      <td>2018</td>\n      <td>ford</td>\n      <td>f150 super cab xl pickup 4d</td>\n      <td>good</td>\n      <td>6 cylinders</td>\n      <td>gas</td>\n      <td>20856.0</td>\n      <td>clean</td>\n      <td>other</td>\n      <td>awd</td>\n      <td>pickup</td>\n      <td>white</td>\n      <td>34590.0</td>\n    </tr>\n    <tr>\n      <th>51</th>\n      <td>2017</td>\n      <td>ram</td>\n      <td>1500 regular cab tradesman</td>\n      <td>good</td>\n      <td>8 cylinders</td>\n      <td>gas</td>\n      <td>39508.0</td>\n      <td>clean</td>\n      <td>other</td>\n      <td>awd</td>\n      <td>pickup</td>\n      <td>white</td>\n      <td>22590.0</td>\n    </tr>\n    <tr>\n      <th>55</th>\n      <td>2004</td>\n      <td>ford</td>\n      <td>f250 super duty</td>\n      <td>good</td>\n      <td>8 cylinders</td>\n      <td>diesel</td>\n      <td>88000.0</td>\n      <td>clean</td>\n      <td>automatic</td>\n      <td>4wd</td>\n      <td>pickup</td>\n      <td>blue</td>\n      <td>19900.0</td>\n    </tr>\n  </tbody>\n</table>\n</div>"
     },
     "metadata": {},
     "output_type": "display_data"
    },
    {
     "name": "stdout",
     "output_type": "stream",
     "text": [
      "<class 'pandas.core.frame.DataFrame'>\n",
      "Int64Index: 102502 entries, 27 to 426878\n",
      "Data columns (total 13 columns):\n",
      " #   Column        Non-Null Count   Dtype  \n",
      "---  ------        --------------   -----  \n",
      " 0   year          102502 non-null  int64  \n",
      " 1   manufacturer  102502 non-null  object \n",
      " 2   model         102502 non-null  object \n",
      " 3   condition     102502 non-null  object \n",
      " 4   cylinders     102502 non-null  object \n",
      " 5   fuel          102502 non-null  object \n",
      " 6   odometer      102502 non-null  float64\n",
      " 7   title_status  102502 non-null  object \n",
      " 8   transmission  102502 non-null  object \n",
      " 9   drive         102502 non-null  object \n",
      " 10  type          102502 non-null  object \n",
      " 11  paint_color   102502 non-null  object \n",
      " 12  price         102502 non-null  float64\n",
      "dtypes: float64(2), int64(1), object(10)\n",
      "memory usage: 10.9+ MB\n"
     ]
    },
    {
     "data": {
      "text/plain": "None"
     },
     "metadata": {},
     "output_type": "display_data"
    }
   ],
   "source": [
    "data_preprocessed = data_preprocessed.drop(data_preprocessed[data_preprocessed[\"year\"] < 2000].index)\n",
    "data_preprocessed = data_preprocessed.drop(data_preprocessed[data_preprocessed[\"year\"] > 2020].index)\n",
    "data_preprocessed = data_preprocessed.drop(data_preprocessed[data_preprocessed[\"price\"] < 1000].index)\n",
    "data_preprocessed = data_preprocessed.drop(data_preprocessed[data_preprocessed[\"price\"] > 50000].index)\n",
    "data_preprocessed = data_preprocessed.drop(data_preprocessed[data_preprocessed[\"odometer\"] > 300000].index)\n",
    "\n",
    "data_preprocessed[\"price\"] = data_preprocessed[\"price\"].astype(np.float64)\n",
    "data_preprocessed[\"year\"] = data_preprocessed[\"year\"].astype(np.int64)\n",
    "\n",
    "display(data_preprocessed.head(15))\n",
    "display(data_preprocessed.info())"
   ]
  },
  {
   "cell_type": "code",
   "execution_count": 11,
   "metadata": {
    "ExecuteTime": {
     "end_time": "2023-07-09T17:00:03.371396400Z",
     "start_time": "2023-07-09T17:00:02.926119200Z"
    }
   },
   "outputs": [
    {
     "data": {
      "text/plain": "    year  manufacturer  model  condition  cylinders  fuel  odometer  \\\n27  2014            11   7315          1          2     2   57923.0   \n28  2010             6   7437          1          2     2   71229.0   \n29  2020             6   7449          1          2     2   19160.0   \n30  2017            34   8609          1          2     2   41124.0   \n31  2013            10   3695          0          1     2  128000.0   \n32  2012            11   7362          1          2     2   68696.0   \n33  2016             6   7455          1          1     2   29499.0   \n34  2019            34   7994          0          1     2   43000.0   \n35  2016             6   2346          1          1     2   17302.0   \n39  2017             6   7482          1          1     2   40784.0   \n42  2016             6   1912          1          2     2    9704.0   \n45  2018            27   4398          1          1     2   37332.0   \n47  2018            10   3912          1          1     2   20856.0   \n51  2017            30    138          1          2     2   39508.0   \n55  2004            10   4019          1          2     0   88000.0   \n\n    title_status  transmission  drive  type  paint_color    price  \n27             0             2      1     5            8  33590.0  \n28             0             2      1     5            1  22590.0  \n29             0             2      1     5            6  39590.0  \n30             0             2      1     5            6  30990.0  \n31             0             0      3     7            0  15000.0  \n32             0             2      0     5            0  27990.0  \n33             0             2      0     5            7  34590.0  \n34             0             0      0     7            5  35000.0  \n35             0             2      0     5            6  29990.0  \n39             0             2      1     5            8  24590.0  \n42             0             2      3     2            6  37990.0  \n45             0             2      0     5            7  27990.0  \n47             0             2      1     5            8  34590.0  \n51             0             2      1     5            8  22590.0  \n55             0             0      0     5            1  19900.0  ",
      "text/html": "<div>\n<style scoped>\n    .dataframe tbody tr th:only-of-type {\n        vertical-align: middle;\n    }\n\n    .dataframe tbody tr th {\n        vertical-align: top;\n    }\n\n    .dataframe thead th {\n        text-align: right;\n    }\n</style>\n<table border=\"1\" class=\"dataframe\">\n  <thead>\n    <tr style=\"text-align: right;\">\n      <th></th>\n      <th>year</th>\n      <th>manufacturer</th>\n      <th>model</th>\n      <th>condition</th>\n      <th>cylinders</th>\n      <th>fuel</th>\n      <th>odometer</th>\n      <th>title_status</th>\n      <th>transmission</th>\n      <th>drive</th>\n      <th>type</th>\n      <th>paint_color</th>\n      <th>price</th>\n    </tr>\n  </thead>\n  <tbody>\n    <tr>\n      <th>27</th>\n      <td>2014</td>\n      <td>11</td>\n      <td>7315</td>\n      <td>1</td>\n      <td>2</td>\n      <td>2</td>\n      <td>57923.0</td>\n      <td>0</td>\n      <td>2</td>\n      <td>1</td>\n      <td>5</td>\n      <td>8</td>\n      <td>33590.0</td>\n    </tr>\n    <tr>\n      <th>28</th>\n      <td>2010</td>\n      <td>6</td>\n      <td>7437</td>\n      <td>1</td>\n      <td>2</td>\n      <td>2</td>\n      <td>71229.0</td>\n      <td>0</td>\n      <td>2</td>\n      <td>1</td>\n      <td>5</td>\n      <td>1</td>\n      <td>22590.0</td>\n    </tr>\n    <tr>\n      <th>29</th>\n      <td>2020</td>\n      <td>6</td>\n      <td>7449</td>\n      <td>1</td>\n      <td>2</td>\n      <td>2</td>\n      <td>19160.0</td>\n      <td>0</td>\n      <td>2</td>\n      <td>1</td>\n      <td>5</td>\n      <td>6</td>\n      <td>39590.0</td>\n    </tr>\n    <tr>\n      <th>30</th>\n      <td>2017</td>\n      <td>34</td>\n      <td>8609</td>\n      <td>1</td>\n      <td>2</td>\n      <td>2</td>\n      <td>41124.0</td>\n      <td>0</td>\n      <td>2</td>\n      <td>1</td>\n      <td>5</td>\n      <td>6</td>\n      <td>30990.0</td>\n    </tr>\n    <tr>\n      <th>31</th>\n      <td>2013</td>\n      <td>10</td>\n      <td>3695</td>\n      <td>0</td>\n      <td>1</td>\n      <td>2</td>\n      <td>128000.0</td>\n      <td>0</td>\n      <td>0</td>\n      <td>3</td>\n      <td>7</td>\n      <td>0</td>\n      <td>15000.0</td>\n    </tr>\n    <tr>\n      <th>32</th>\n      <td>2012</td>\n      <td>11</td>\n      <td>7362</td>\n      <td>1</td>\n      <td>2</td>\n      <td>2</td>\n      <td>68696.0</td>\n      <td>0</td>\n      <td>2</td>\n      <td>0</td>\n      <td>5</td>\n      <td>0</td>\n      <td>27990.0</td>\n    </tr>\n    <tr>\n      <th>33</th>\n      <td>2016</td>\n      <td>6</td>\n      <td>7455</td>\n      <td>1</td>\n      <td>1</td>\n      <td>2</td>\n      <td>29499.0</td>\n      <td>0</td>\n      <td>2</td>\n      <td>0</td>\n      <td>5</td>\n      <td>7</td>\n      <td>34590.0</td>\n    </tr>\n    <tr>\n      <th>34</th>\n      <td>2019</td>\n      <td>34</td>\n      <td>7994</td>\n      <td>0</td>\n      <td>1</td>\n      <td>2</td>\n      <td>43000.0</td>\n      <td>0</td>\n      <td>0</td>\n      <td>0</td>\n      <td>7</td>\n      <td>5</td>\n      <td>35000.0</td>\n    </tr>\n    <tr>\n      <th>35</th>\n      <td>2016</td>\n      <td>6</td>\n      <td>2346</td>\n      <td>1</td>\n      <td>1</td>\n      <td>2</td>\n      <td>17302.0</td>\n      <td>0</td>\n      <td>2</td>\n      <td>0</td>\n      <td>5</td>\n      <td>6</td>\n      <td>29990.0</td>\n    </tr>\n    <tr>\n      <th>39</th>\n      <td>2017</td>\n      <td>6</td>\n      <td>7482</td>\n      <td>1</td>\n      <td>1</td>\n      <td>2</td>\n      <td>40784.0</td>\n      <td>0</td>\n      <td>2</td>\n      <td>1</td>\n      <td>5</td>\n      <td>8</td>\n      <td>24590.0</td>\n    </tr>\n    <tr>\n      <th>42</th>\n      <td>2016</td>\n      <td>6</td>\n      <td>1912</td>\n      <td>1</td>\n      <td>2</td>\n      <td>2</td>\n      <td>9704.0</td>\n      <td>0</td>\n      <td>2</td>\n      <td>3</td>\n      <td>2</td>\n      <td>6</td>\n      <td>37990.0</td>\n    </tr>\n    <tr>\n      <th>45</th>\n      <td>2018</td>\n      <td>27</td>\n      <td>4398</td>\n      <td>1</td>\n      <td>1</td>\n      <td>2</td>\n      <td>37332.0</td>\n      <td>0</td>\n      <td>2</td>\n      <td>0</td>\n      <td>5</td>\n      <td>7</td>\n      <td>27990.0</td>\n    </tr>\n    <tr>\n      <th>47</th>\n      <td>2018</td>\n      <td>10</td>\n      <td>3912</td>\n      <td>1</td>\n      <td>1</td>\n      <td>2</td>\n      <td>20856.0</td>\n      <td>0</td>\n      <td>2</td>\n      <td>1</td>\n      <td>5</td>\n      <td>8</td>\n      <td>34590.0</td>\n    </tr>\n    <tr>\n      <th>51</th>\n      <td>2017</td>\n      <td>30</td>\n      <td>138</td>\n      <td>1</td>\n      <td>2</td>\n      <td>2</td>\n      <td>39508.0</td>\n      <td>0</td>\n      <td>2</td>\n      <td>1</td>\n      <td>5</td>\n      <td>8</td>\n      <td>22590.0</td>\n    </tr>\n    <tr>\n      <th>55</th>\n      <td>2004</td>\n      <td>10</td>\n      <td>4019</td>\n      <td>1</td>\n      <td>2</td>\n      <td>0</td>\n      <td>88000.0</td>\n      <td>0</td>\n      <td>0</td>\n      <td>0</td>\n      <td>5</td>\n      <td>1</td>\n      <td>19900.0</td>\n    </tr>\n  </tbody>\n</table>\n</div>"
     },
     "metadata": {},
     "output_type": "display_data"
    }
   ],
   "source": [
    "le = LabelEncoder()\n",
    "for column in data_preprocessed.columns:\n",
    "    if data_preprocessed[column].dtype == \"object\":\n",
    "        le.fit(data_preprocessed[column])\n",
    "        data_preprocessed[column] = le.transform(data_preprocessed[column])\n",
    "        data_preprocessed[column] = data_preprocessed[column].astype(np.int64)\n",
    "\n",
    "display(data_preprocessed.head(15))"
   ]
  },
  {
   "cell_type": "code",
   "execution_count": 12,
   "outputs": [],
   "source": [
    "data_preprocessed.to_csv(\"Data/vehicles_preprocessed.csv\")"
   ],
   "metadata": {
    "collapsed": false,
    "ExecuteTime": {
     "end_time": "2023-07-09T17:00:04.186464300Z",
     "start_time": "2023-07-09T17:00:03.375385Z"
    }
   }
  }
 ],
 "metadata": {
  "kernelspec": {
   "display_name": "Python 3 (ipykernel)",
   "language": "python",
   "name": "python3"
  },
  "language_info": {
   "codemirror_mode": {
    "name": "ipython",
    "version": 3
   },
   "file_extension": ".py",
   "mimetype": "text/x-python",
   "name": "python",
   "nbconvert_exporter": "python",
   "pygments_lexer": "ipython3",
   "version": "3.9.13"
  }
 },
 "nbformat": 4,
 "nbformat_minor": 1
}
